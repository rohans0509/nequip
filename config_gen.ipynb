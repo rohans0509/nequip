{
 "cells": [
  {
   "cell_type": "code",
   "execution_count": 2,
   "metadata": {},
   "outputs": [],
   "source": [
    "import yaml\n",
    "import os\n",
    "# !pip install e3nn\n",
    "from e3nn import o3"
   ]
  },
  {
   "cell_type": "code",
   "execution_count": 3,
   "metadata": {},
   "outputs": [],
   "source": [
    "def load_config(config_file_path):\n",
    "    with open(config_file_path, 'r') as stream:\n",
    "        try:\n",
    "            config = yaml.safe_load(stream)\n",
    "        except yaml.YAMLError as exc:\n",
    "            print(exc)\n",
    "    return config\n",
    "\n",
    "def save_config(config, config_file_path):\n",
    "    with open(config_file_path, 'w') as stream:\n",
    "        try:\n",
    "            yaml.dump(config, stream, default_flow_style=False)\n",
    "        except yaml.YAMLError as exc:\n",
    "            print(exc)\n",
    "\n",
    "def update_config(config, **kwargs):\n",
    "    for key, value in kwargs.items():\n",
    "        config[key] = value\n",
    "    return config"
   ]
  },
  {
   "cell_type": "code",
   "execution_count": 5,
   "metadata": {},
   "outputs": [],
   "source": [
    "example_config_file_path=\"old_configs/water.yaml\"\n",
    "num_features=32\n",
    "max_epochs=200\n",
    "root=\"results/toluene\"\n",
    "\n",
    "'''\n",
    "feature_irreps_hidden: 32x0o + 32x0e + 32x1o + 32x1e                              # irreps used for hidden features, here we go up to lmax=1, with even and odd parities; for more accurate but slower networks, use l=2 or higher, smaller number of features is faster\n",
    "irreps_edge_sh: 0e + 1o                                                           # irreps of the spherical harmonics used for edges. If a single integer, indicates the full SH up to L_max=that_integer\n",
    "conv_to_output_hidden_irreps_out: 16x0e                                           # irreps used in hidden layer of output block\n",
    "max_epochs: 150                                                                  # stop training after _ number of epochs, we set a very large number here, it won't take this long in practice and we will use early stopping instead\n",
    "\n",
    "num_layers: 3                                                                     # number of interaction blocks, we find 3-5 to work best\n",
    "invariant_layers: 1\n",
    "max_epochs: 150                                                                  # stop training after _ number of epochs, we set a very large number here, it won't take this long in practice and we will use early stopping instead\n",
    "'''\n",
    "\n",
    "for n_train in [10,100,1000]:\n",
    "    for conv0_layers in range(3):\n",
    "        for lmax in range(4):\n",
    "\n",
    "            config = load_config(example_config_file_path)\n",
    "\n",
    "            num_layers=4-conv0_layers\n",
    "            feature_irreps_hidden=str(o3.Irreps(\n",
    "                            [\n",
    "                                (num_features, (l, p))\n",
    "                                for p in ((1, -1) if True else (1,))\n",
    "                                for l in range(lmax + 1)\n",
    "                            ]\n",
    "                        ))\n",
    "            run_name=f\"ntrain_{n_train}_lmax_{lmax}_invariant_{conv0_layers}_epochs_{max_epochs}\"\n",
    "\n",
    "            config = update_config(config, num_layers=num_layers, feature_irreps_hidden=feature_irreps_hidden, max_epochs=max_epochs, root=root, run_name=run_name, conv0_layers=conv0_layers, n_train=n_train)\n",
    "            save_config(config, f\"water_configs/{run_name}.yaml\")"
   ]
  }
 ],
 "metadata": {
  "kernelspec": {
   "display_name": "Python 3",
   "language": "python",
   "name": "python3"
  },
  "language_info": {
   "codemirror_mode": {
    "name": "ipython",
    "version": 3
   },
   "file_extension": ".py",
   "mimetype": "text/x-python",
   "name": "python",
   "nbconvert_exporter": "python",
   "pygments_lexer": "ipython3",
   "version": "3.7.6"
  }
 },
 "nbformat": 4,
 "nbformat_minor": 2
}
