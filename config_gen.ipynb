{
 "cells": [
  {
   "cell_type": "code",
   "execution_count": 23,
   "metadata": {},
   "outputs": [],
   "source": [
    "import yaml\n",
    "import os\n",
    "# !pip install e3nn\n",
    "from e3nn import o3"
   ]
  },
  {
   "cell_type": "code",
   "execution_count": 24,
   "metadata": {},
   "outputs": [],
   "source": [
    "def load_config(config_file_path):\n",
    "    with open(config_file_path, 'r') as stream:\n",
    "        try:\n",
    "            config = yaml.safe_load(stream)\n",
    "        except yaml.YAMLError as exc:\n",
    "            print(exc)\n",
    "    return config\n",
    "\n",
    "def save_config(config, config_file_path):\n",
    "    with open(config_file_path, 'w') as stream:\n",
    "        try:\n",
    "            yaml.dump(config, stream, default_flow_style=False)\n",
    "        except yaml.YAMLError as exc:\n",
    "            print(exc)\n",
    "\n",
    "def update_config(config, **kwargs):\n",
    "    for key, value in kwargs.items():\n",
    "        config[key] = value\n",
    "    return config\n",
    "\n",
    "def irreps(lvalue,num_features=32,even=False):\n",
    "    return(str(o3.Irreps(\n",
    "                    [\n",
    "                        (num_features, (l, p))\n",
    "                        for p in ((1, -1) if not even else (1,))\n",
    "                        for l in range(lvalue + 1)\n",
    "                    ]\n",
    "                )))"
   ]
  },
  {
   "cell_type": "code",
   "execution_count": 26,
   "metadata": {},
   "outputs": [],
   "source": [
    "# example_config_file_path=\"old_configs/aspirin.yaml\"\n",
    "# num_features=32\n",
    "# max_epochs=200\n",
    "# root=\"results/aspirin3\"\n",
    "# out_dir_configs=\"aspirin_configs\"\n",
    "\n",
    "# if not os.path.exists(out_dir_configs):\n",
    "#     os.makedirs(out_dir_configs)\n",
    "\n",
    "# !rm -rf {out_dir_configs}\n",
    "# !mkdir {out_dir_configs}\n",
    "\n",
    "# # n_val=50\n",
    "# # for n_train in [900]:\n",
    "# #     for conv0_layers in [2,3]:\n",
    "# #         for lmax in [1,2,3]:\n",
    "\n",
    "# #             config = load_config(example_config_file_path)\n",
    "\n",
    "# #             num_layers=4-conv0_layers\n",
    "# #             feature_irreps_hidden=str(o3.Irreps(\n",
    "# #                             [\n",
    "# #                                 (num_features, (l, p))\n",
    "# #                                 for p in ((1, -1) if True else (1,))\n",
    "# #                                 for l in range(lmax + 1)\n",
    "# #                             ]\n",
    "# #                         ))\n",
    "# #             run_name=f\"ntrain_{n_train}_lmax_{lmax}_invariant_{conv0_layers}_epochs_{max_epochs}\"\n",
    "\n",
    "# #             config = update_config(config, n_val=n_val,num_layers=num_layers, feature_irreps_hidden=feature_irreps_hidden, max_epochs=max_epochs, root=root, run_name=run_name, conv0_layers=conv0_layers, n_train=n_train)\n",
    "# #             save_config(config, f\"{out_dir_configs}/{run_name}.yaml\")"
   ]
  },
  {
   "cell_type": "code",
   "execution_count": 32,
   "metadata": {},
   "outputs": [],
   "source": [
    "example_config_file_path=\"old_configs/aspirin.yaml\"\n",
    "num_features=32\n",
    "max_epochs=200\n",
    "root=\"results/aspirin3\"\n",
    "out_dir_configs=\"aspirin_configs\"\n",
    "n_val=50\n",
    "l_values=[1,0,0,0]\n",
    "\n",
    "num_layers=len(l_values)\n",
    "layer_irreps=\",\".join([irreps(lvalue,num_features,even=(lvalue==0)) for lvalue in l_values])\n",
    "feature_irreps_hidden=\"\"\n",
    "\n",
    "if not os.path.exists(out_dir_configs):\n",
    "    os.makedirs(out_dir_configs)\n",
    "\n",
    "# !rm -rf {out_dir_configs}\n",
    "# !mkdir {out_dir_configs}\n",
    "\n",
    "for n_train in [900]:\n",
    "\n",
    "    config = load_config(example_config_file_path)\n",
    "\n",
    "    run_name=f\"ntrain_{n_train}_irreps_{''.join([str(l) for l in l_values])}_epochs_{max_epochs}\"\n",
    "\n",
    "    config = update_config(config, n_val=n_val,num_layers=num_layers, max_epochs=max_epochs, root=root, run_name=run_name,layer_irreps=layer_irreps, n_train=n_train, feature_irreps_hidden=feature_irreps_hidden)\n",
    "    save_config(config, f\"{out_dir_configs}/{run_name}.yaml\")"
   ]
  }
 ],
 "metadata": {
  "kernelspec": {
   "display_name": "Python 3",
   "language": "python",
   "name": "python3"
  },
  "language_info": {
   "codemirror_mode": {
    "name": "ipython",
    "version": 3
   },
   "file_extension": ".py",
   "mimetype": "text/x-python",
   "name": "python",
   "nbconvert_exporter": "python",
   "pygments_lexer": "ipython3",
   "version": "3.7.6"
  }
 },
 "nbformat": 4,
 "nbformat_minor": 2
}
