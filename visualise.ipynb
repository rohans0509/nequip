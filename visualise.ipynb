{
 "cells": [
  {
   "cell_type": "code",
   "execution_count": 1,
   "metadata": {},
   "outputs": [],
   "source": [
    "# visualise.py\n",
    "from src.managers.visualization_manager import VisualizationManager\n",
    "import src.settings as settings\n",
    "\n",
    "vm = VisualizationManager(\n",
    "    experiment_name=settings.EXPERIMENT_NAME, \n",
    "    base_dir=settings.BASE_DIR\n",
    ")"
   ]
  },
  {
   "cell_type": "code",
   "execution_count": 2,
   "metadata": {},
   "outputs": [
    {
     "data": {
      "text/html": [
       "<pre style=\"white-space:pre;overflow-x:auto;line-height:normal;font-family:Menlo,'DejaVu Sans Mono',consolas,'Courier New',monospace\">\n",
       "<span style=\"color: #800080; text-decoration-color: #800080; font-weight: bold\">==================== Visualization Suite Generation ====================</span>\n",
       "\n",
       "</pre>\n"
      ],
      "text/plain": [
       "\n",
       "\u001b[1;35m==================== Visualization Suite Generation ====================\u001b[0m\n",
       "\n"
      ]
     },
     "metadata": {},
     "output_type": "display_data"
    },
    {
     "data": {
      "text/html": [
       "<pre style=\"white-space:pre;overflow-x:auto;line-height:normal;font-family:Menlo,'DejaVu Sans Mono',consolas,'Courier New',monospace\">Generating plots for <span style=\"color: #008080; text-decoration-color: #008080; font-weight: bold\">6</span> metrics<span style=\"color: #808000; text-decoration-color: #808000\">...</span>\n",
       "</pre>\n"
      ],
      "text/plain": [
       "Generating plots for \u001b[1;36m6\u001b[0m metrics\u001b[33m...\u001b[0m\n"
      ]
     },
     "metadata": {},
     "output_type": "display_data"
    },
    {
     "data": {
      "application/vnd.jupyter.widget-view+json": {
       "model_id": "63c471c37b4d4913a7e49a88fc663720",
       "version_major": 2,
       "version_minor": 0
      },
      "text/plain": [
       "Output()"
      ]
     },
     "metadata": {},
     "output_type": "display_data"
    },
    {
     "data": {
      "text/html": [
       "<pre style=\"white-space:pre;overflow-x:auto;line-height:normal;font-family:Menlo,'DejaVu Sans Mono',consolas,'Courier New',monospace\">\n",
       "<span style=\"color: #800080; text-decoration-color: #800080; font-weight: bold\">==================== Plotting learning curves for </span><span style=\"color: #800080; text-decoration-color: #800080; font-weight: bold\">metric</span><span style=\"color: #800080; text-decoration-color: #800080; font-weight: bold\">=</span><span style=\"color: #800080; text-decoration-color: #800080; font-weight: bold\">'training_loss'</span><span style=\"color: #800080; text-decoration-color: #800080; font-weight: bold\">, </span><span style=\"color: #800080; text-decoration-color: #800080; font-weight: bold\">epoch</span><span style=\"color: #800080; text-decoration-color: #800080; font-weight: bold\">=</span><span style=\"color: #800080; text-decoration-color: #800080; font-weight: bold\">-1</span><span style=\"color: #800080; text-decoration-color: #800080; font-weight: bold\"> ====================</span>\n",
       "\n",
       "</pre>\n"
      ],
      "text/plain": [
       "\n",
       "\u001b[1;35m==================== Plotting learning curves for \u001b[0m\u001b[1;35mmetric\u001b[0m\u001b[1;35m=\u001b[0m\u001b[1;35m'training_loss'\u001b[0m\u001b[1;35m, \u001b[0m\u001b[1;35mepoch\u001b[0m\u001b[1;35m=\u001b[0m\u001b[1;35m-1\u001b[0m\u001b[1;35m ====================\u001b[0m\n",
       "\n"
      ]
     },
     "metadata": {},
     "output_type": "display_data"
    },
    {
     "data": {
      "text/html": [
       "<pre style=\"white-space:pre;overflow-x:auto;line-height:normal;font-family:Menlo,'DejaVu Sans Mono',consolas,'Courier New',monospace\"><span style=\"color: #008000; text-decoration-color: #008000; font-weight: bold\">✅ Plot saved to src/results/aspirin_e3nn_study/24_01_2025_0631pm/plots/learning_curves_training_loss_epoch-</span><span style=\"color: #008080; text-decoration-color: #008080; font-weight: bold\">1.</span><span style=\"color: #008000; text-decoration-color: #008000; font-weight: bold\">png</span>\n",
       "</pre>\n"
      ],
      "text/plain": [
       "\u001b[1;32m✅ Plot saved to src/results/aspirin_e3nn_study/24_01_2025_0631pm/plots/learning_curves_training_loss_epoch-\u001b[0m\u001b[1;36m1.\u001b[0m\u001b[1;32mpng\u001b[0m\n"
      ]
     },
     "metadata": {},
     "output_type": "display_data"
    },
    {
     "data": {
      "text/html": [
       "<pre style=\"white-space:pre;overflow-x:auto;line-height:normal;font-family:Menlo,'DejaVu Sans Mono',consolas,'Courier New',monospace\">\n",
       "<span style=\"color: #800080; text-decoration-color: #800080; font-weight: bold\">==================== Plot Param Comparison for </span><span style=\"color: #800080; text-decoration-color: #800080; font-weight: bold\">metric</span><span style=\"color: #800080; text-decoration-color: #800080; font-weight: bold\">=</span><span style=\"color: #800080; text-decoration-color: #800080; font-weight: bold\">'training_loss'</span><span style=\"color: #800080; text-decoration-color: #800080; font-weight: bold\"> (</span><span style=\"color: #800080; text-decoration-color: #800080; font-weight: bold\">epoch</span><span style=\"color: #800080; text-decoration-color: #800080; font-weight: bold\">=</span><span style=\"color: #800080; text-decoration-color: #800080; font-weight: bold\">-1</span><span style=\"color: #800080; text-decoration-color: #800080; font-weight: bold\">) ====================</span>\n",
       "\n",
       "</pre>\n"
      ],
      "text/plain": [
       "\n",
       "\u001b[1;35m==================== Plot Param Comparison for \u001b[0m\u001b[1;35mmetric\u001b[0m\u001b[1;35m=\u001b[0m\u001b[1;35m'training_loss'\u001b[0m\u001b[1;35m \u001b[0m\u001b[1;35m(\u001b[0m\u001b[1;35mepoch\u001b[0m\u001b[1;35m=\u001b[0m\u001b[1;35m-1\u001b[0m\u001b[1;35m)\u001b[0m\u001b[1;35m ====================\u001b[0m\n",
       "\n"
      ]
     },
     "metadata": {},
     "output_type": "display_data"
    },
    {
     "data": {
      "text/html": [
       "<pre style=\"white-space:pre;overflow-x:auto;line-height:normal;font-family:Menlo,'DejaVu Sans Mono',consolas,'Courier New',monospace\"><span style=\"color: #008000; text-decoration-color: #008000; font-weight: bold\">✅ Saved comparison plot to </span>\n",
       "<span style=\"color: #008000; text-decoration-color: #008000; font-weight: bold\">src/results/aspirin_e3nn_study/24_01_2025_0631pm/plots/param_comparison_training_loss_epoch-</span><span style=\"color: #008080; text-decoration-color: #008080; font-weight: bold\">1.</span><span style=\"color: #008000; text-decoration-color: #008000; font-weight: bold\">png</span>\n",
       "</pre>\n"
      ],
      "text/plain": [
       "\u001b[1;32m✅ Saved comparison plot to \u001b[0m\n",
       "\u001b[1;32msrc/results/aspirin_e3nn_study/24_01_2025_0631pm/plots/param_comparison_training_loss_epoch-\u001b[0m\u001b[1;36m1.\u001b[0m\u001b[1;32mpng\u001b[0m\n"
      ]
     },
     "metadata": {},
     "output_type": "display_data"
    },
    {
     "data": {
      "text/html": [
       "<pre style=\"white-space:pre;overflow-x:auto;line-height:normal;font-family:Menlo,'DejaVu Sans Mono',consolas,'Courier New',monospace\">\n",
       "<span style=\"color: #800080; text-decoration-color: #800080; font-weight: bold\">==================== Plotting learning curves for </span><span style=\"color: #800080; text-decoration-color: #800080; font-weight: bold\">metric</span><span style=\"color: #800080; text-decoration-color: #800080; font-weight: bold\">=</span><span style=\"color: #800080; text-decoration-color: #800080; font-weight: bold\">'validation_loss'</span><span style=\"color: #800080; text-decoration-color: #800080; font-weight: bold\">, </span><span style=\"color: #800080; text-decoration-color: #800080; font-weight: bold\">epoch</span><span style=\"color: #800080; text-decoration-color: #800080; font-weight: bold\">=</span><span style=\"color: #800080; text-decoration-color: #800080; font-weight: bold\">-1</span><span style=\"color: #800080; text-decoration-color: #800080; font-weight: bold\"> ====================</span>\n",
       "\n",
       "</pre>\n"
      ],
      "text/plain": [
       "\n",
       "\u001b[1;35m==================== Plotting learning curves for \u001b[0m\u001b[1;35mmetric\u001b[0m\u001b[1;35m=\u001b[0m\u001b[1;35m'validation_loss'\u001b[0m\u001b[1;35m, \u001b[0m\u001b[1;35mepoch\u001b[0m\u001b[1;35m=\u001b[0m\u001b[1;35m-1\u001b[0m\u001b[1;35m ====================\u001b[0m\n",
       "\n"
      ]
     },
     "metadata": {},
     "output_type": "display_data"
    },
    {
     "data": {
      "text/html": [
       "<pre style=\"white-space:pre;overflow-x:auto;line-height:normal;font-family:Menlo,'DejaVu Sans Mono',consolas,'Courier New',monospace\"><span style=\"color: #008000; text-decoration-color: #008000; font-weight: bold\">✅ Plot saved to src/results/aspirin_e3nn_study/24_01_2025_0631pm/plots/learning_curves_validation_loss_epoch-</span><span style=\"color: #008080; text-decoration-color: #008080; font-weight: bold\">1.</span><span style=\"color: #008000; text-decoration-color: #008000; font-weight: bold\">png</span>\n",
       "</pre>\n"
      ],
      "text/plain": [
       "\u001b[1;32m✅ Plot saved to src/results/aspirin_e3nn_study/24_01_2025_0631pm/plots/learning_curves_validation_loss_epoch-\u001b[0m\u001b[1;36m1.\u001b[0m\u001b[1;32mpng\u001b[0m\n"
      ]
     },
     "metadata": {},
     "output_type": "display_data"
    },
    {
     "data": {
      "text/html": [
       "<pre style=\"white-space:pre;overflow-x:auto;line-height:normal;font-family:Menlo,'DejaVu Sans Mono',consolas,'Courier New',monospace\">\n",
       "<span style=\"color: #800080; text-decoration-color: #800080; font-weight: bold\">==================== Plot Param Comparison for </span><span style=\"color: #800080; text-decoration-color: #800080; font-weight: bold\">metric</span><span style=\"color: #800080; text-decoration-color: #800080; font-weight: bold\">=</span><span style=\"color: #800080; text-decoration-color: #800080; font-weight: bold\">'validation_loss'</span><span style=\"color: #800080; text-decoration-color: #800080; font-weight: bold\"> (</span><span style=\"color: #800080; text-decoration-color: #800080; font-weight: bold\">epoch</span><span style=\"color: #800080; text-decoration-color: #800080; font-weight: bold\">=</span><span style=\"color: #800080; text-decoration-color: #800080; font-weight: bold\">-1</span><span style=\"color: #800080; text-decoration-color: #800080; font-weight: bold\">) ====================</span>\n",
       "\n",
       "</pre>\n"
      ],
      "text/plain": [
       "\n",
       "\u001b[1;35m==================== Plot Param Comparison for \u001b[0m\u001b[1;35mmetric\u001b[0m\u001b[1;35m=\u001b[0m\u001b[1;35m'validation_loss'\u001b[0m\u001b[1;35m \u001b[0m\u001b[1;35m(\u001b[0m\u001b[1;35mepoch\u001b[0m\u001b[1;35m=\u001b[0m\u001b[1;35m-1\u001b[0m\u001b[1;35m)\u001b[0m\u001b[1;35m ====================\u001b[0m\n",
       "\n"
      ]
     },
     "metadata": {},
     "output_type": "display_data"
    },
    {
     "data": {
      "text/html": [
       "<pre style=\"white-space:pre;overflow-x:auto;line-height:normal;font-family:Menlo,'DejaVu Sans Mono',consolas,'Courier New',monospace\"><span style=\"color: #008000; text-decoration-color: #008000; font-weight: bold\">✅ Saved comparison plot to </span>\n",
       "<span style=\"color: #008000; text-decoration-color: #008000; font-weight: bold\">src/results/aspirin_e3nn_study/24_01_2025_0631pm/plots/param_comparison_validation_loss_epoch-</span><span style=\"color: #008080; text-decoration-color: #008080; font-weight: bold\">1.</span><span style=\"color: #008000; text-decoration-color: #008000; font-weight: bold\">png</span>\n",
       "</pre>\n"
      ],
      "text/plain": [
       "\u001b[1;32m✅ Saved comparison plot to \u001b[0m\n",
       "\u001b[1;32msrc/results/aspirin_e3nn_study/24_01_2025_0631pm/plots/param_comparison_validation_loss_epoch-\u001b[0m\u001b[1;36m1.\u001b[0m\u001b[1;32mpng\u001b[0m\n"
      ]
     },
     "metadata": {},
     "output_type": "display_data"
    },
    {
     "data": {
      "text/html": [
       "<pre style=\"white-space:pre;overflow-x:auto;line-height:normal;font-family:Menlo,'DejaVu Sans Mono',consolas,'Courier New',monospace\">\n",
       "<span style=\"color: #800080; text-decoration-color: #800080; font-weight: bold\">==================== Plotting learning curves for </span><span style=\"color: #800080; text-decoration-color: #800080; font-weight: bold\">metric</span><span style=\"color: #800080; text-decoration-color: #800080; font-weight: bold\">=</span><span style=\"color: #800080; text-decoration-color: #800080; font-weight: bold\">'training_f_mae'</span><span style=\"color: #800080; text-decoration-color: #800080; font-weight: bold\">, </span><span style=\"color: #800080; text-decoration-color: #800080; font-weight: bold\">epoch</span><span style=\"color: #800080; text-decoration-color: #800080; font-weight: bold\">=</span><span style=\"color: #800080; text-decoration-color: #800080; font-weight: bold\">-1</span><span style=\"color: #800080; text-decoration-color: #800080; font-weight: bold\"> ====================</span>\n",
       "\n",
       "</pre>\n"
      ],
      "text/plain": [
       "\n",
       "\u001b[1;35m==================== Plotting learning curves for \u001b[0m\u001b[1;35mmetric\u001b[0m\u001b[1;35m=\u001b[0m\u001b[1;35m'training_f_mae'\u001b[0m\u001b[1;35m, \u001b[0m\u001b[1;35mepoch\u001b[0m\u001b[1;35m=\u001b[0m\u001b[1;35m-1\u001b[0m\u001b[1;35m ====================\u001b[0m\n",
       "\n"
      ]
     },
     "metadata": {},
     "output_type": "display_data"
    },
    {
     "data": {
      "text/html": [
       "<pre style=\"white-space:pre;overflow-x:auto;line-height:normal;font-family:Menlo,'DejaVu Sans Mono',consolas,'Courier New',monospace\"><span style=\"color: #008000; text-decoration-color: #008000; font-weight: bold\">✅ Plot saved to src/results/aspirin_e3nn_study/24_01_2025_0631pm/plots/learning_curves_training_f_mae_epoch-</span><span style=\"color: #008080; text-decoration-color: #008080; font-weight: bold\">1.</span><span style=\"color: #008000; text-decoration-color: #008000; font-weight: bold\">png</span>\n",
       "</pre>\n"
      ],
      "text/plain": [
       "\u001b[1;32m✅ Plot saved to src/results/aspirin_e3nn_study/24_01_2025_0631pm/plots/learning_curves_training_f_mae_epoch-\u001b[0m\u001b[1;36m1.\u001b[0m\u001b[1;32mpng\u001b[0m\n"
      ]
     },
     "metadata": {},
     "output_type": "display_data"
    },
    {
     "data": {
      "text/html": [
       "<pre style=\"white-space:pre;overflow-x:auto;line-height:normal;font-family:Menlo,'DejaVu Sans Mono',consolas,'Courier New',monospace\">\n",
       "<span style=\"color: #800080; text-decoration-color: #800080; font-weight: bold\">==================== Plot Param Comparison for </span><span style=\"color: #800080; text-decoration-color: #800080; font-weight: bold\">metric</span><span style=\"color: #800080; text-decoration-color: #800080; font-weight: bold\">=</span><span style=\"color: #800080; text-decoration-color: #800080; font-weight: bold\">'training_f_mae'</span><span style=\"color: #800080; text-decoration-color: #800080; font-weight: bold\"> (</span><span style=\"color: #800080; text-decoration-color: #800080; font-weight: bold\">epoch</span><span style=\"color: #800080; text-decoration-color: #800080; font-weight: bold\">=</span><span style=\"color: #800080; text-decoration-color: #800080; font-weight: bold\">-1</span><span style=\"color: #800080; text-decoration-color: #800080; font-weight: bold\">) ====================</span>\n",
       "\n",
       "</pre>\n"
      ],
      "text/plain": [
       "\n",
       "\u001b[1;35m==================== Plot Param Comparison for \u001b[0m\u001b[1;35mmetric\u001b[0m\u001b[1;35m=\u001b[0m\u001b[1;35m'training_f_mae'\u001b[0m\u001b[1;35m \u001b[0m\u001b[1;35m(\u001b[0m\u001b[1;35mepoch\u001b[0m\u001b[1;35m=\u001b[0m\u001b[1;35m-1\u001b[0m\u001b[1;35m)\u001b[0m\u001b[1;35m ====================\u001b[0m\n",
       "\n"
      ]
     },
     "metadata": {},
     "output_type": "display_data"
    },
    {
     "data": {
      "text/html": [
       "<pre style=\"white-space:pre;overflow-x:auto;line-height:normal;font-family:Menlo,'DejaVu Sans Mono',consolas,'Courier New',monospace\"><span style=\"color: #008000; text-decoration-color: #008000; font-weight: bold\">✅ Saved comparison plot to </span>\n",
       "<span style=\"color: #008000; text-decoration-color: #008000; font-weight: bold\">src/results/aspirin_e3nn_study/24_01_2025_0631pm/plots/param_comparison_training_f_mae_epoch-</span><span style=\"color: #008080; text-decoration-color: #008080; font-weight: bold\">1.</span><span style=\"color: #008000; text-decoration-color: #008000; font-weight: bold\">png</span>\n",
       "</pre>\n"
      ],
      "text/plain": [
       "\u001b[1;32m✅ Saved comparison plot to \u001b[0m\n",
       "\u001b[1;32msrc/results/aspirin_e3nn_study/24_01_2025_0631pm/plots/param_comparison_training_f_mae_epoch-\u001b[0m\u001b[1;36m1.\u001b[0m\u001b[1;32mpng\u001b[0m\n"
      ]
     },
     "metadata": {},
     "output_type": "display_data"
    },
    {
     "data": {
      "text/html": [
       "<pre style=\"white-space:pre;overflow-x:auto;line-height:normal;font-family:Menlo,'DejaVu Sans Mono',consolas,'Courier New',monospace\">\n",
       "<span style=\"color: #800080; text-decoration-color: #800080; font-weight: bold\">==================== Plotting learning curves for </span><span style=\"color: #800080; text-decoration-color: #800080; font-weight: bold\">metric</span><span style=\"color: #800080; text-decoration-color: #800080; font-weight: bold\">=</span><span style=\"color: #800080; text-decoration-color: #800080; font-weight: bold\">'validation_f_mae'</span><span style=\"color: #800080; text-decoration-color: #800080; font-weight: bold\">, </span><span style=\"color: #800080; text-decoration-color: #800080; font-weight: bold\">epoch</span><span style=\"color: #800080; text-decoration-color: #800080; font-weight: bold\">=</span><span style=\"color: #800080; text-decoration-color: #800080; font-weight: bold\">-1</span><span style=\"color: #800080; text-decoration-color: #800080; font-weight: bold\"> ====================</span>\n",
       "\n",
       "</pre>\n"
      ],
      "text/plain": [
       "\n",
       "\u001b[1;35m==================== Plotting learning curves for \u001b[0m\u001b[1;35mmetric\u001b[0m\u001b[1;35m=\u001b[0m\u001b[1;35m'validation_f_mae'\u001b[0m\u001b[1;35m, \u001b[0m\u001b[1;35mepoch\u001b[0m\u001b[1;35m=\u001b[0m\u001b[1;35m-1\u001b[0m\u001b[1;35m ====================\u001b[0m\n",
       "\n"
      ]
     },
     "metadata": {},
     "output_type": "display_data"
    },
    {
     "data": {
      "text/html": [
       "<pre style=\"white-space:pre;overflow-x:auto;line-height:normal;font-family:Menlo,'DejaVu Sans Mono',consolas,'Courier New',monospace\"><span style=\"color: #008000; text-decoration-color: #008000; font-weight: bold\">✅ Plot saved to </span>\n",
       "<span style=\"color: #008000; text-decoration-color: #008000; font-weight: bold\">src/results/aspirin_e3nn_study/24_01_2025_0631pm/plots/learning_curves_validation_f_mae_epoch-</span><span style=\"color: #008080; text-decoration-color: #008080; font-weight: bold\">1.</span><span style=\"color: #008000; text-decoration-color: #008000; font-weight: bold\">png</span>\n",
       "</pre>\n"
      ],
      "text/plain": [
       "\u001b[1;32m✅ Plot saved to \u001b[0m\n",
       "\u001b[1;32msrc/results/aspirin_e3nn_study/24_01_2025_0631pm/plots/learning_curves_validation_f_mae_epoch-\u001b[0m\u001b[1;36m1.\u001b[0m\u001b[1;32mpng\u001b[0m\n"
      ]
     },
     "metadata": {},
     "output_type": "display_data"
    },
    {
     "data": {
      "text/html": [
       "<pre style=\"white-space:pre;overflow-x:auto;line-height:normal;font-family:Menlo,'DejaVu Sans Mono',consolas,'Courier New',monospace\">\n",
       "<span style=\"color: #800080; text-decoration-color: #800080; font-weight: bold\">==================== Plot Param Comparison for </span><span style=\"color: #800080; text-decoration-color: #800080; font-weight: bold\">metric</span><span style=\"color: #800080; text-decoration-color: #800080; font-weight: bold\">=</span><span style=\"color: #800080; text-decoration-color: #800080; font-weight: bold\">'validation_f_mae'</span><span style=\"color: #800080; text-decoration-color: #800080; font-weight: bold\"> (</span><span style=\"color: #800080; text-decoration-color: #800080; font-weight: bold\">epoch</span><span style=\"color: #800080; text-decoration-color: #800080; font-weight: bold\">=</span><span style=\"color: #800080; text-decoration-color: #800080; font-weight: bold\">-1</span><span style=\"color: #800080; text-decoration-color: #800080; font-weight: bold\">) ====================</span>\n",
       "\n",
       "</pre>\n"
      ],
      "text/plain": [
       "\n",
       "\u001b[1;35m==================== Plot Param Comparison for \u001b[0m\u001b[1;35mmetric\u001b[0m\u001b[1;35m=\u001b[0m\u001b[1;35m'validation_f_mae'\u001b[0m\u001b[1;35m \u001b[0m\u001b[1;35m(\u001b[0m\u001b[1;35mepoch\u001b[0m\u001b[1;35m=\u001b[0m\u001b[1;35m-1\u001b[0m\u001b[1;35m)\u001b[0m\u001b[1;35m ====================\u001b[0m\n",
       "\n"
      ]
     },
     "metadata": {},
     "output_type": "display_data"
    },
    {
     "data": {
      "text/html": [
       "<pre style=\"white-space:pre;overflow-x:auto;line-height:normal;font-family:Menlo,'DejaVu Sans Mono',consolas,'Courier New',monospace\"><span style=\"color: #008000; text-decoration-color: #008000; font-weight: bold\">✅ Saved comparison plot to </span>\n",
       "<span style=\"color: #008000; text-decoration-color: #008000; font-weight: bold\">src/results/aspirin_e3nn_study/24_01_2025_0631pm/plots/param_comparison_validation_f_mae_epoch-</span><span style=\"color: #008080; text-decoration-color: #008080; font-weight: bold\">1.</span><span style=\"color: #008000; text-decoration-color: #008000; font-weight: bold\">png</span>\n",
       "</pre>\n"
      ],
      "text/plain": [
       "\u001b[1;32m✅ Saved comparison plot to \u001b[0m\n",
       "\u001b[1;32msrc/results/aspirin_e3nn_study/24_01_2025_0631pm/plots/param_comparison_validation_f_mae_epoch-\u001b[0m\u001b[1;36m1.\u001b[0m\u001b[1;32mpng\u001b[0m\n"
      ]
     },
     "metadata": {},
     "output_type": "display_data"
    },
    {
     "data": {
      "text/html": [
       "<pre style=\"white-space:pre;overflow-x:auto;line-height:normal;font-family:Menlo,'DejaVu Sans Mono',consolas,'Courier New',monospace\">\n",
       "<span style=\"color: #800080; text-decoration-color: #800080; font-weight: bold\">==================== Plotting learning curves for </span><span style=\"color: #800080; text-decoration-color: #800080; font-weight: bold\">metric</span><span style=\"color: #800080; text-decoration-color: #800080; font-weight: bold\">=</span><span style=\"color: #800080; text-decoration-color: #800080; font-weight: bold\">'training_e_mae'</span><span style=\"color: #800080; text-decoration-color: #800080; font-weight: bold\">, </span><span style=\"color: #800080; text-decoration-color: #800080; font-weight: bold\">epoch</span><span style=\"color: #800080; text-decoration-color: #800080; font-weight: bold\">=</span><span style=\"color: #800080; text-decoration-color: #800080; font-weight: bold\">-1</span><span style=\"color: #800080; text-decoration-color: #800080; font-weight: bold\"> ====================</span>\n",
       "\n",
       "</pre>\n"
      ],
      "text/plain": [
       "\n",
       "\u001b[1;35m==================== Plotting learning curves for \u001b[0m\u001b[1;35mmetric\u001b[0m\u001b[1;35m=\u001b[0m\u001b[1;35m'training_e_mae'\u001b[0m\u001b[1;35m, \u001b[0m\u001b[1;35mepoch\u001b[0m\u001b[1;35m=\u001b[0m\u001b[1;35m-1\u001b[0m\u001b[1;35m ====================\u001b[0m\n",
       "\n"
      ]
     },
     "metadata": {},
     "output_type": "display_data"
    },
    {
     "data": {
      "text/html": [
       "<pre style=\"white-space:pre;overflow-x:auto;line-height:normal;font-family:Menlo,'DejaVu Sans Mono',consolas,'Courier New',monospace\"><span style=\"color: #008000; text-decoration-color: #008000; font-weight: bold\">✅ Plot saved to src/results/aspirin_e3nn_study/24_01_2025_0631pm/plots/learning_curves_training_e_mae_epoch-</span><span style=\"color: #008080; text-decoration-color: #008080; font-weight: bold\">1.</span><span style=\"color: #008000; text-decoration-color: #008000; font-weight: bold\">png</span>\n",
       "</pre>\n"
      ],
      "text/plain": [
       "\u001b[1;32m✅ Plot saved to src/results/aspirin_e3nn_study/24_01_2025_0631pm/plots/learning_curves_training_e_mae_epoch-\u001b[0m\u001b[1;36m1.\u001b[0m\u001b[1;32mpng\u001b[0m\n"
      ]
     },
     "metadata": {},
     "output_type": "display_data"
    },
    {
     "data": {
      "text/html": [
       "<pre style=\"white-space:pre;overflow-x:auto;line-height:normal;font-family:Menlo,'DejaVu Sans Mono',consolas,'Courier New',monospace\">\n",
       "<span style=\"color: #800080; text-decoration-color: #800080; font-weight: bold\">==================== Plot Param Comparison for </span><span style=\"color: #800080; text-decoration-color: #800080; font-weight: bold\">metric</span><span style=\"color: #800080; text-decoration-color: #800080; font-weight: bold\">=</span><span style=\"color: #800080; text-decoration-color: #800080; font-weight: bold\">'training_e_mae'</span><span style=\"color: #800080; text-decoration-color: #800080; font-weight: bold\"> (</span><span style=\"color: #800080; text-decoration-color: #800080; font-weight: bold\">epoch</span><span style=\"color: #800080; text-decoration-color: #800080; font-weight: bold\">=</span><span style=\"color: #800080; text-decoration-color: #800080; font-weight: bold\">-1</span><span style=\"color: #800080; text-decoration-color: #800080; font-weight: bold\">) ====================</span>\n",
       "\n",
       "</pre>\n"
      ],
      "text/plain": [
       "\n",
       "\u001b[1;35m==================== Plot Param Comparison for \u001b[0m\u001b[1;35mmetric\u001b[0m\u001b[1;35m=\u001b[0m\u001b[1;35m'training_e_mae'\u001b[0m\u001b[1;35m \u001b[0m\u001b[1;35m(\u001b[0m\u001b[1;35mepoch\u001b[0m\u001b[1;35m=\u001b[0m\u001b[1;35m-1\u001b[0m\u001b[1;35m)\u001b[0m\u001b[1;35m ====================\u001b[0m\n",
       "\n"
      ]
     },
     "metadata": {},
     "output_type": "display_data"
    },
    {
     "data": {
      "text/html": [
       "<pre style=\"white-space:pre;overflow-x:auto;line-height:normal;font-family:Menlo,'DejaVu Sans Mono',consolas,'Courier New',monospace\"><span style=\"color: #008000; text-decoration-color: #008000; font-weight: bold\">✅ Saved comparison plot to </span>\n",
       "<span style=\"color: #008000; text-decoration-color: #008000; font-weight: bold\">src/results/aspirin_e3nn_study/24_01_2025_0631pm/plots/param_comparison_training_e_mae_epoch-</span><span style=\"color: #008080; text-decoration-color: #008080; font-weight: bold\">1.</span><span style=\"color: #008000; text-decoration-color: #008000; font-weight: bold\">png</span>\n",
       "</pre>\n"
      ],
      "text/plain": [
       "\u001b[1;32m✅ Saved comparison plot to \u001b[0m\n",
       "\u001b[1;32msrc/results/aspirin_e3nn_study/24_01_2025_0631pm/plots/param_comparison_training_e_mae_epoch-\u001b[0m\u001b[1;36m1.\u001b[0m\u001b[1;32mpng\u001b[0m\n"
      ]
     },
     "metadata": {},
     "output_type": "display_data"
    },
    {
     "data": {
      "text/html": [
       "<pre style=\"white-space:pre;overflow-x:auto;line-height:normal;font-family:Menlo,'DejaVu Sans Mono',consolas,'Courier New',monospace\">\n",
       "<span style=\"color: #800080; text-decoration-color: #800080; font-weight: bold\">==================== Plotting learning curves for </span><span style=\"color: #800080; text-decoration-color: #800080; font-weight: bold\">metric</span><span style=\"color: #800080; text-decoration-color: #800080; font-weight: bold\">=</span><span style=\"color: #800080; text-decoration-color: #800080; font-weight: bold\">'validation_e_mae'</span><span style=\"color: #800080; text-decoration-color: #800080; font-weight: bold\">, </span><span style=\"color: #800080; text-decoration-color: #800080; font-weight: bold\">epoch</span><span style=\"color: #800080; text-decoration-color: #800080; font-weight: bold\">=</span><span style=\"color: #800080; text-decoration-color: #800080; font-weight: bold\">-1</span><span style=\"color: #800080; text-decoration-color: #800080; font-weight: bold\"> ====================</span>\n",
       "\n",
       "</pre>\n"
      ],
      "text/plain": [
       "\n",
       "\u001b[1;35m==================== Plotting learning curves for \u001b[0m\u001b[1;35mmetric\u001b[0m\u001b[1;35m=\u001b[0m\u001b[1;35m'validation_e_mae'\u001b[0m\u001b[1;35m, \u001b[0m\u001b[1;35mepoch\u001b[0m\u001b[1;35m=\u001b[0m\u001b[1;35m-1\u001b[0m\u001b[1;35m ====================\u001b[0m\n",
       "\n"
      ]
     },
     "metadata": {},
     "output_type": "display_data"
    },
    {
     "data": {
      "text/html": [
       "<pre style=\"white-space:pre;overflow-x:auto;line-height:normal;font-family:Menlo,'DejaVu Sans Mono',consolas,'Courier New',monospace\"><span style=\"color: #008000; text-decoration-color: #008000; font-weight: bold\">✅ Plot saved to </span>\n",
       "<span style=\"color: #008000; text-decoration-color: #008000; font-weight: bold\">src/results/aspirin_e3nn_study/24_01_2025_0631pm/plots/learning_curves_validation_e_mae_epoch-</span><span style=\"color: #008080; text-decoration-color: #008080; font-weight: bold\">1.</span><span style=\"color: #008000; text-decoration-color: #008000; font-weight: bold\">png</span>\n",
       "</pre>\n"
      ],
      "text/plain": [
       "\u001b[1;32m✅ Plot saved to \u001b[0m\n",
       "\u001b[1;32msrc/results/aspirin_e3nn_study/24_01_2025_0631pm/plots/learning_curves_validation_e_mae_epoch-\u001b[0m\u001b[1;36m1.\u001b[0m\u001b[1;32mpng\u001b[0m\n"
      ]
     },
     "metadata": {},
     "output_type": "display_data"
    },
    {
     "data": {
      "text/html": [
       "<pre style=\"white-space:pre;overflow-x:auto;line-height:normal;font-family:Menlo,'DejaVu Sans Mono',consolas,'Courier New',monospace\">\n",
       "<span style=\"color: #800080; text-decoration-color: #800080; font-weight: bold\">==================== Plot Param Comparison for </span><span style=\"color: #800080; text-decoration-color: #800080; font-weight: bold\">metric</span><span style=\"color: #800080; text-decoration-color: #800080; font-weight: bold\">=</span><span style=\"color: #800080; text-decoration-color: #800080; font-weight: bold\">'validation_e_mae'</span><span style=\"color: #800080; text-decoration-color: #800080; font-weight: bold\"> (</span><span style=\"color: #800080; text-decoration-color: #800080; font-weight: bold\">epoch</span><span style=\"color: #800080; text-decoration-color: #800080; font-weight: bold\">=</span><span style=\"color: #800080; text-decoration-color: #800080; font-weight: bold\">-1</span><span style=\"color: #800080; text-decoration-color: #800080; font-weight: bold\">) ====================</span>\n",
       "\n",
       "</pre>\n"
      ],
      "text/plain": [
       "\n",
       "\u001b[1;35m==================== Plot Param Comparison for \u001b[0m\u001b[1;35mmetric\u001b[0m\u001b[1;35m=\u001b[0m\u001b[1;35m'validation_e_mae'\u001b[0m\u001b[1;35m \u001b[0m\u001b[1;35m(\u001b[0m\u001b[1;35mepoch\u001b[0m\u001b[1;35m=\u001b[0m\u001b[1;35m-1\u001b[0m\u001b[1;35m)\u001b[0m\u001b[1;35m ====================\u001b[0m\n",
       "\n"
      ]
     },
     "metadata": {},
     "output_type": "display_data"
    },
    {
     "data": {
      "text/html": [
       "<pre style=\"white-space:pre;overflow-x:auto;line-height:normal;font-family:Menlo,'DejaVu Sans Mono',consolas,'Courier New',monospace\"><span style=\"color: #008000; text-decoration-color: #008000; font-weight: bold\">✅ Saved comparison plot to </span>\n",
       "<span style=\"color: #008000; text-decoration-color: #008000; font-weight: bold\">src/results/aspirin_e3nn_study/24_01_2025_0631pm/plots/param_comparison_validation_e_mae_epoch-</span><span style=\"color: #008080; text-decoration-color: #008080; font-weight: bold\">1.</span><span style=\"color: #008000; text-decoration-color: #008000; font-weight: bold\">png</span>\n",
       "</pre>\n"
      ],
      "text/plain": [
       "\u001b[1;32m✅ Saved comparison plot to \u001b[0m\n",
       "\u001b[1;32msrc/results/aspirin_e3nn_study/24_01_2025_0631pm/plots/param_comparison_validation_e_mae_epoch-\u001b[0m\u001b[1;36m1.\u001b[0m\u001b[1;32mpng\u001b[0m\n"
      ]
     },
     "metadata": {},
     "output_type": "display_data"
    },
    {
     "data": {
      "text/html": [
       "<pre style=\"white-space:pre;overflow-x:auto;line-height:normal;font-family:Menlo,'DejaVu Sans Mono',consolas,'Courier New',monospace\"></pre>\n"
      ],
      "text/plain": []
     },
     "metadata": {},
     "output_type": "display_data"
    },
    {
     "data": {
      "text/html": [
       "<pre style=\"white-space:pre;overflow-x:auto;line-height:normal;font-family:Menlo,'DejaVu Sans Mono',consolas,'Courier New',monospace\"><span style=\"color: #008000; text-decoration-color: #008000; font-weight: bold\">✅ Visualization suite generation completed!</span>\n",
       "</pre>\n"
      ],
      "text/plain": [
       "\u001b[1;32m✅ Visualization suite generation completed!\u001b[0m\n"
      ]
     },
     "metadata": {},
     "output_type": "display_data"
    }
   ],
   "source": [
    "\n",
    "# Plot learning curves for n_train=2\n",
    "vm.visualize_results()"
   ]
  },
  {
   "cell_type": "code",
   "execution_count": null,
   "metadata": {},
   "outputs": [],
   "source": []
  }
 ],
 "metadata": {
  "kernelspec": {
   "display_name": "nequip-ghaP8RXe-py3.11",
   "language": "python",
   "name": "python3"
  },
  "language_info": {
   "codemirror_mode": {
    "name": "ipython",
    "version": 3
   },
   "file_extension": ".py",
   "mimetype": "text/x-python",
   "name": "python",
   "nbconvert_exporter": "python",
   "pygments_lexer": "ipython3",
   "version": "3.8.20"
  }
 },
 "nbformat": 4,
 "nbformat_minor": 2
}
